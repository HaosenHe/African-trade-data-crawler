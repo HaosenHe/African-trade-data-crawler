{
 "cells": [
  {
   "cell_type": "code",
   "execution_count": 1,
   "metadata": {},
   "outputs": [],
   "source": [
    "#@ Haosen He\n",
    "# Wake Forest University\n",
    "# RA work for Prof. Tin Cheuk Leung\n",
    "# March 2020\n",
    "import wget\n",
    "import pandas as pd\n",
    "import numpy as np\n",
    "import time\n",
    "from copy import deepcopy"
   ]
  },
  {
   "cell_type": "code",
   "execution_count": null,
   "metadata": {},
   "outputs": [],
   "source": [
    "codelist= [12,24,204,72, 854,108,132,120,140, 148,174,178,384,180, 262,818,226,232,\n",
    "                           231,736,266,270,288,324,624,404,426,430,434,450,454,466,478,480,504,508,\n",
    "                           516, 562,566,646,678,686,690,694,706,710,728,729,748,768,788,800,834,894,716]"
   ]
  },
  {
   "cell_type": "code",
   "execution_count": null,
   "metadata": {},
   "outputs": [],
   "source": [
    "url1 = 'https://comtrade.un.org/api/get?max=100000&type=C&freq=A&px=S2&ps=2000&r='\n",
    "url2 = '&p=all&rg=all&cc=TOTAL%2CAG2&uitoken=1022a4166cf2714ca61a0e1e4a1b1d7a&fmt=csv'\n",
    "filepath = 'C:\\\\Users\\\\s1760\\\\Desktop\\\\givepie\\\\'\n",
    "for i in codelist:\n",
    "    filename = str(i)+\".csv\"\n",
    "    url = url1+str(i)+url2\n",
    "    wget.download(url, filepath+filename)\n",
    "    time.sleep(3)"
   ]
  },
  {
   "cell_type": "code",
   "execution_count": null,
   "metadata": {},
   "outputs": [],
   "source": [
    "# find list of non countries\n",
    "filepath = 'C:\\\\Users\\\\s1760\\\\Desktop\\\\givepie\\\\'\n",
    "nonlist = []\n",
    "for i in codelist:\n",
    "    filename = str(i)+\".csv\"\n",
    "    data = pd.read_csv(filepath+filename)\n",
    "    if data.shape[0] < 2:\n",
    "        nonlist.append(i)\n",
    "len(nonlist)"
   ]
  },
  {
   "cell_type": "code",
   "execution_count": null,
   "metadata": {},
   "outputs": [],
   "source": [
    "# find a list of countries with data\n",
    "newlist = []\n",
    "def have_same(num, list):\n",
    "    cond = False\n",
    "    for i in list:\n",
    "        if num == i:\n",
    "            cond= True\n",
    "    return cond\n",
    "\n",
    "for i in codelist:\n",
    "    if have_same(i, nonlist)==False:\n",
    "        newlist.append(i)\n",
    "len(newlist)"
   ]
  },
  {
   "cell_type": "code",
   "execution_count": null,
   "metadata": {},
   "outputs": [],
   "source": [
    "# write the above two info into a txt\n",
    "fh = open(filepath+'description.txt', \"w\")\n",
    "lines_of_text = [\"with data:\\n\"]\n",
    "fh.writelines(lines_of_text)\n",
    "for item in newlist:\n",
    "        fh.write(\"{}\\n\".format(item))\n",
    "secondline=[\"with no data:\\n\"] \n",
    "fh.writelines(secondline)\n",
    "for item in nonlist:\n",
    "        fh.write(\"{}\\n\".format(item))\n",
    "fh.close()"
   ]
  },
  {
   "cell_type": "code",
   "execution_count": null,
   "metadata": {},
   "outputs": [],
   "source": [
    "# process border\n",
    "border = pd.read_csv('C:\\\\Users\\\\s1760\\\\Desktop\\\\african_country_bolders.csv')\n",
    "country_code = border['country_code'].tolist()\n",
    "un_code = border['un_code'].tolist()\n",
    "country_border_code = border['country_border_code'].tolist()\n",
    "\n",
    "# Python code to remove duplicate elements \n",
    "def Remove(duplicate): \n",
    "    final_list = [] \n",
    "    for num in duplicate: \n",
    "        if num not in final_list: \n",
    "            final_list.append(num) \n",
    "    return final_list \n",
    "norepcode = Remove(country_code)\n",
    "neighbors = []\n",
    "num_code=[]\n",
    "nonrepneighbor=Remove(country_border_code)\n",
    "for i in range(0,len(country_code)):\n",
    "        neighbors.append((country_code[i], country_border_code[i]))\n",
    "for j in range(0,len(country_code)):\n",
    "    num_code.append((un_code[j],country_code[j]))\n",
    "num_code=Remove(num_code)\n"
   ]
  },
  {
   "cell_type": "code",
   "execution_count": null,
   "metadata": {},
   "outputs": [],
   "source": [
    "data = pd.read_csv(filepath+str(newlist[0])+'.csv')\n",
    "for i in range(1, len(newlist)):\n",
    "    addpath = filepath+str(newlist[i])+\".csv\"\n",
    "    datata = pd.read_csv(addpath)\n",
    "    data=data.append(datata)\n"
   ]
  },
  {
   "cell_type": "code",
   "execution_count": null,
   "metadata": {},
   "outputs": [],
   "source": [
    "#export big file\n",
    "data.to_csv (r'C:\\\\Users\\\\s1760\\\\Desktop\\\\African_Trade_2000_Rev2_TOTAL_and_AG2.csv', index = False, header=True)"
   ]
  },
  {
   "cell_type": "code",
   "execution_count": null,
   "metadata": {},
   "outputs": [],
   "source": [
    "for i in range (0, len(nonrepneighbor)):\n",
    "    if nonrepneighbor[i] is np.nan:\n",
    "        print(\"one nan\")\n",
    "        nonrepneighbor.pop(i)\n",
    "        break"
   ]
  },
  {
   "cell_type": "code",
   "execution_count": null,
   "metadata": {},
   "outputs": [],
   "source": [
    "bigfilepath = 'C:\\\\Users\\\\s1760\\\\Desktop\\\\African_Trade_2000_Rev2_TOTAL_and_AG2.csv'\n",
    "bigfile = pd.read_csv(bigfilepath)\n",
    "biglength = bigfile['Year'].size\n",
    "\n",
    "for i in nonrepneighbor:\n",
    "    dummy = []\n",
    "    for j in range(0, biglength):\n",
    "        dummy.append(0)\n",
    "    bigfile[i] = dummy\n"
   ]
  },
  {
   "cell_type": "code",
   "execution_count": null,
   "metadata": {},
   "outputs": [],
   "source": [
    "bigfile.to_csv (r'C:\\\\Users\\\\s1760\\\\Desktop\\\\African_Trade_2000_Rev2_TOTAL_and_AG2_GEO.csv', index = False, header=True)"
   ]
  },
  {
   "cell_type": "code",
   "execution_count": null,
   "metadata": {},
   "outputs": [],
   "source": [
    "ffile=pd.read_csv('C:\\\\Users\\\\s1760\\\\Desktop\\\\African_Trade_2000_Rev2_TOTAL_and_AG2_GEO.csv')\n",
    "flength=ffile['Year'].size\n",
    "country_code=[]\n",
    "for i in range(0, flength):\n",
    "    country_code.append('NA')\n",
    "    \n",
    "\n",
    "#country_code.append(find_code(num_code,num))\n",
    "ffile['country_code']=country_code"
   ]
  },
  {
   "cell_type": "code",
   "execution_count": null,
   "metadata": {},
   "outputs": [],
   "source": [
    "ffile.to_csv (r'C:\\\\Users\\\\s1760\\\\Desktop\\\\African.csv', index = False, header=True)"
   ]
  },
  {
   "cell_type": "code",
   "execution_count": null,
   "metadata": {},
   "outputs": [],
   "source": []
  },
  {
   "cell_type": "code",
   "execution_count": null,
   "metadata": {},
   "outputs": [],
   "source": []
  },
  {
   "cell_type": "code",
   "execution_count": null,
   "metadata": {},
   "outputs": [],
   "source": []
  },
  {
   "cell_type": "code",
   "execution_count": null,
   "metadata": {},
   "outputs": [],
   "source": []
  },
  {
   "cell_type": "code",
   "execution_count": null,
   "metadata": {},
   "outputs": [],
   "source": []
  },
  {
   "cell_type": "code",
   "execution_count": null,
   "metadata": {},
   "outputs": [],
   "source": []
  },
  {
   "cell_type": "code",
   "execution_count": null,
   "metadata": {},
   "outputs": [],
   "source": []
  },
  {
   "cell_type": "code",
   "execution_count": null,
   "metadata": {},
   "outputs": [],
   "source": []
  },
  {
   "cell_type": "code",
   "execution_count": null,
   "metadata": {},
   "outputs": [],
   "source": []
  },
  {
   "cell_type": "code",
   "execution_count": null,
   "metadata": {},
   "outputs": [],
   "source": []
  }
 ],
 "metadata": {
  "kernelspec": {
   "display_name": "Python 3",
   "language": "python",
   "name": "python3"
  },
  "language_info": {
   "codemirror_mode": {
    "name": "ipython",
    "version": 3
   },
   "file_extension": ".py",
   "mimetype": "text/x-python",
   "name": "python",
   "nbconvert_exporter": "python",
   "pygments_lexer": "ipython3",
   "version": "3.7.6"
  }
 },
 "nbformat": 4,
 "nbformat_minor": 2
}
